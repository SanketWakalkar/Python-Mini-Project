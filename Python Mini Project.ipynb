{
 "cells": [
  {
   "cell_type": "markdown",
   "id": "8f836292",
   "metadata": {},
   "source": [
    "# ITP MINI PROJCET PYTHON\n"
   ]
  },
  {
   "cell_type": "code",
   "execution_count": null,
   "id": "69a6249f",
   "metadata": {},
   "outputs": [],
   "source": [
    "#Q1. Create a Dictionary of lists to store the information of shipments given in the table"
   ]
  },
  {
   "cell_type": "code",
   "execution_count": 1,
   "id": "28092211",
   "metadata": {},
   "outputs": [
    {
     "name": "stdout",
     "output_type": "stream",
     "text": [
      "{'101': ['1', '3', '14-03-2020', '25-03-2020', 'Area1', 'Area6', 'Delivered', '198'], '102': ['4', '1', '18-06-2020', '09-07-2020', 'Area2', 'Area4', 'Delivered', '275'], '103': ['2', '3', '01-12-2020', 'Null', 'Area5', 'Area1', 'In-Transit', '200'], '104': ['1', '5', '23-06-2020', '25-06-2020', 'Area1', 'Area4', 'Delivered', '314'], '105': ['3', '4', '29-08-2020', '10-09-2020', 'Area5', 'Area3', 'Delivered', '275'], '106': ['5', '2', '28-06-2020', 'Null', 'Area3', 'Area1', 'In-Transit', '270']}\n"
     ]
    }
   ],
   "source": [
    "shipment_dict = { '101' : ['1' ,'3','14-03-2020', '25-03-2020', 'Area1', 'Area6', 'Delivered', '198'  ], \n",
    "                 '102':['4' ,'1', '18-06-2020', '09-07-2020', 'Area2', 'Area4', 'Delivered','275' ], \n",
    "                 '103': ['2' ,'3', '01-12-2020', 'Null', 'Area5', 'Area1', 'In-Transit', '200'], \n",
    "                 '104' : ['1' , '5', '23-06-2020', '25-06-2020', 'Area1', 'Area4' ,'Delivered','314'], \n",
    "                 '105': ['3' , '4',  '29-08-2020', '10-09-2020', 'Area5',  'Area3' ,'Delivered', '275' ], \n",
    "                 '106':  ['5' , '2', '28-06-2020', 'Null', 'Area3', 'Area1' , 'In-Transit','270']}\n",
    "print(shipment_dict)"
   ]
  },
  {
   "cell_type": "code",
   "execution_count": null,
   "id": "944ac076",
   "metadata": {},
   "outputs": [],
   "source": [
    "#Q2. Create a Dictionary of to store the information of clients given in the table."
   ]
  },
  {
   "cell_type": "code",
   "execution_count": 2,
   "id": "5f86b746",
   "metadata": {},
   "outputs": [
    {
     "data": {
      "text/plain": [
       "{1: 'Philip', 2: 'Omega 111', 3: 'Ramya', 4: 'Romesh', 5: 'John'}"
      ]
     },
     "execution_count": 2,
     "metadata": {},
     "output_type": "execute_result"
    }
   ],
   "source": [
    "client_id = [1,2,3,4,5]\n",
    "client_name= ['Philip' , 'Omega 111' , 'Ramya' , 'Romesh' , 'John']\n",
    "\n",
    "client_info = {client_id[i]:client_name[i] for i in range(len(client_id))}\n",
    "client_info"
   ]
  },
  {
   "cell_type": "code",
   "execution_count": null,
   "id": "44ddf9a9",
   "metadata": {},
   "outputs": [],
   "source": [
    "#Q3. Write a code to replace client’s id with their respective name in shipment dictionary using a loop and dictionary comprehension"
   ]
  },
  {
   "cell_type": "code",
   "execution_count": 3,
   "id": "934becf5",
   "metadata": {},
   "outputs": [
    {
     "name": "stdout",
     "output_type": "stream",
     "text": [
      "{101: {'Sender': 'Phillip', 'Receiver': 'Ramya', 'Start date': '14-03-2020', 'Delivery date': '25-03-2020', 'Sender location': 'Area 1', 'Receiver location': 'Area 6', 'Delivery status': 'Delivered', 'Shipping cost': 198}, 102: {'Sender': 'Romesh', 'Receiver': 'Phillip', 'Start date': '18-06-2020', 'Delivery date': '09-07-2020', 'Sender location': 'Area 2', 'Receiver location': 'Area 4', 'Delivery status': 'Delivered', 'Shipping cost': 275}, 103: {'Sender': 'Omega lll', 'Receiver': 'Ramya', 'Start date': '01-12-2020', 'Delivery date': 'Null', 'Sender location': 'Area 5', 'Receiver location': 'Area 1', 'Delivery status': 'In Transit', 'Shipping cost': 200}, 104: {'Sender': 'Phillip', 'Receiver': 'John', 'Start date': '23-06-2020', 'Delivery date': '25-06-2020', 'Sender location': 'Area 1', 'Receiver location': 'Area 4', 'Delivery status': 'Delivered', 'Shipping cost': 314}, 105: {'Sender': 'Ramya', 'Receiver': 'Romesh', 'Start date': '29-08-2020', 'Delivery date': '10-09-2020', 'Sender location': 'Area 5', 'Receiver location': 'Area 3', 'Delivery status': 'Delivered', 'Shipping cost': 275}, 106: {'Sender': 'John', 'Receiver': 'Omega lll', 'Start date': '28-06-2020', 'Delivery date': 'Null', 'Sender location': 'Area 3', 'Receiver location': 'Area 1', 'Delivery status': 'In Transit', 'Shipping cost': 270}}\n"
     ]
    }
   ],
   "source": [
    "d1={101:{'Sender':1,'Receiver':3,'Start date':'14-03-2020','Delivery date':'25-03-2020','Sender location':'Area 1','Receiver location':'Area 6','Delivery status':'Delivered','Shipping cost':198}, 102:{'Sender':4,'Receiver':1,'Start date':'18-06-2020','Delivery date':'09-07-2020','Sender location':'Area 2','Receiver location':'Area 4','Delivery status':'Delivered','Shipping cost':275}, 103:{'Sender':2,'Receiver':3,'Start date':'01-12-2020','Delivery date':'Null','Sender location':'Area 5','Receiver location':'Area 1','Delivery status':'In Transit','Shipping cost':200}, 104:{'Sender':1,'Receiver':5,'Start date':'23-06-2020','Delivery date':'25-06-2020','Sender location':'Area 1','Receiver location':'Area 4','Delivery status':'Delivered','Shipping cost':314}, 105:{'Sender':3,'Receiver':4,'Start date':'29-08-2020','Delivery date':'10-09-2020','Sender location':'Area 5','Receiver location':'Area 3','Delivery status':'Delivered','Shipping cost':275}, 106:{'Sender':5,'Receiver':2,'Start date':'28-06-2020','Delivery date':'Null','Sender location':'Area 3','Receiver location':'Area 1','Delivery status':'In Transit','Shipping cost':270}}\n",
    "\n",
    "\n",
    "d2 = {1:'Phillip',2:'Omega lll',3 :'Ramya',4:'Romesh',5:'John'}\n",
    "\n",
    "result = {}\n",
    "for key, value in d1.items():\n",
    "    new_value = {k: d2[v] if k in ('Sender', 'Receiver') else v for k,v in value.items()}\n",
    "    result[key] = new_value\n",
    "        \n",
    "print(result)"
   ]
  },
  {
   "cell_type": "code",
   "execution_count": null,
   "id": "5eae4379",
   "metadata": {},
   "outputs": [],
   "source": [
    "#Q4. Print all shipment details that are sent by Phillip"
   ]
  },
  {
   "cell_type": "code",
   "execution_count": 4,
   "id": "bf08d918",
   "metadata": {},
   "outputs": [
    {
     "name": "stdout",
     "output_type": "stream",
     "text": [
      "[{'Sender': 'Phillip', 'Receiver': 'Ramya', 'Start date': '14-03-2020', 'Delivery date': '25-03-2020', 'Sender location': 'Area 1', 'Receiver location': 'Area 6', 'Delivery status': 'Delivered', 'Shipping cost': 198}, {'Sender': 'Phillip', 'Receiver': 'John', 'Start date': '23-06-2020', 'Delivery date': '25-06-2020', 'Sender location': 'Area 1', 'Receiver location': 'Area 4', 'Delivery status': 'Delivered', 'Shipping cost': 314}]\n"
     ]
    }
   ],
   "source": [
    "d1 = {101: {'Sender': 'Phillip', 'Receiver': 'Ramya', 'Start date': '14-03-2020', 'Delivery date': '25-03-2020', 'Sender location': 'Area 1', 'Receiver location': 'Area 6', 'Delivery status': 'Delivered', 'Shipping cost': 198}, 102: {'Sender': 'Romesh', 'Receiver': 'Phillip', 'Start date': '18-06-2020', 'Delivery date': '09-07-2020', 'Sender location': 'Area 2', 'Receiver location': 'Area 4', 'Delivery status': 'Delivered', 'Shipping cost': 275}, 103: {'Sender': 'Omega lll', 'Receiver': 'Ramya', 'Start date': '01-12-2020', 'Delivery date': 'Null', 'Sender location': 'Area 5', 'Receiver location': 'Area 1', 'Delivery status': 'In Transit', 'Shipping cost': 200}, 104: {'Sender': 'Phillip', 'Receiver': 'John', 'Start date': '23-06-2020', 'Delivery date': '25-06-2020', 'Sender location': 'Area 1', 'Receiver location': 'Area 4', 'Delivery status': 'Delivered', 'Shipping cost': 314}, 105: {'Sender': 'Ramya', 'Receiver': 'Romesh', 'Start date': '29-08-2020', 'Delivery date': '10-09-2020', 'Sender location': 'Area 5', 'Receiver location': 'Area 3', 'Delivery status': 'Delivered', 'Shipping cost': 275}, 106: {'Sender': 'John', 'Receiver': 'Omega lll', 'Start date': '28-06-2020', 'Delivery date': 'Null', 'Sender location': 'Area 3', 'Receiver location': 'Area 1', 'Delivery status': 'In Transit', 'Shipping cost': 270}}\n",
    "phillip = list(filter(lambda value: value['Sender'] == 'Phillip',\n",
    "                       d1.values()))\n",
    "print(phillip)"
   ]
  },
  {
   "cell_type": "code",
   "execution_count": null,
   "id": "a6acc740",
   "metadata": {},
   "outputs": [],
   "source": [
    "#Q5. Print all shipment details that are received by Ramya"
   ]
  },
  {
   "cell_type": "code",
   "execution_count": 5,
   "id": "dcbb79c7",
   "metadata": {},
   "outputs": [
    {
     "name": "stdout",
     "output_type": "stream",
     "text": [
      "[{'Sender': 'Ramya', 'Receiver': 'Romesh', 'Start date': '29-08-2020', 'Delivery date': '10-09-2020', 'Sender location': 'Area 5', 'Receiver location': 'Area 3', 'Delivery status': 'Delivered', 'Shipping cost': 275}]\n"
     ]
    }
   ],
   "source": [
    "d1 = {101: {'Sender': 'Phillip', 'Receiver': 'Ramya', 'Start date': '14-03-2020', 'Delivery date': '25-03-2020', 'Sender location': 'Area 1', 'Receiver location': 'Area 6', 'Delivery status': 'Delivered', 'Shipping cost': 198}, 102: {'Sender': 'Romesh', 'Receiver': 'Phillip', 'Start date': '18-06-2020', 'Delivery date': '09-07-2020', 'Sender location': 'Area 2', 'Receiver location': 'Area 4', 'Delivery status': 'Delivered', 'Shipping cost': 275}, 103: {'Sender': 'Omega lll', 'Receiver': 'Ramya', 'Start date': '01-12-2020', 'Delivery date': 'Null', 'Sender location': 'Area 5', 'Receiver location': 'Area 1', 'Delivery status': 'In Transit', 'Shipping cost': 200}, 104: {'Sender': 'Phillip', 'Receiver': 'John', 'Start date': '23-06-2020', 'Delivery date': '25-06-2020', 'Sender location': 'Area 1', 'Receiver location': 'Area 4', 'Delivery status': 'Delivered', 'Shipping cost': 314}, 105: {'Sender': 'Ramya', 'Receiver': 'Romesh', 'Start date': '29-08-2020', 'Delivery date': '10-09-2020', 'Sender location': 'Area 5', 'Receiver location': 'Area 3', 'Delivery status': 'Delivered', 'Shipping cost': 275}, 106: {'Sender': 'John', 'Receiver': 'Omega lll', 'Start date': '28-06-2020', 'Delivery date': 'Null', 'Sender location': 'Area 3', 'Receiver location': 'Area 1', 'Delivery status': 'In Transit', 'Shipping cost': 270}}\n",
    "Ramya = list(filter(lambda value: value['Sender'] == 'Ramya',\n",
    "                       d1.values()))\n",
    "print(Ramya)"
   ]
  },
  {
   "cell_type": "code",
   "execution_count": null,
   "id": "4d2ca146",
   "metadata": {},
   "outputs": [],
   "source": [
    "#Q6. Print all shipments which are in 'In-Transit' status"
   ]
  },
  {
   "cell_type": "code",
   "execution_count": 6,
   "id": "84c5fe90",
   "metadata": {
    "scrolled": true
   },
   "outputs": [
    {
     "name": "stdout",
     "output_type": "stream",
     "text": [
      "[{'Sender': 'Omega lll', 'Receiver': 'Ramya', 'Start date': '01-12-2020', 'Delivery date': 'Null', 'Sender location': 'Area 5', 'Receiver location': 'Area 1', 'Delivery status': 'In Transit', 'Shipping cost': 200}, {'Sender': 'John', 'Receiver': 'Omega lll', 'Start date': '28-06-2020', 'Delivery date': 'Null', 'Sender location': 'Area 3', 'Receiver location': 'Area 1', 'Delivery status': 'In Transit', 'Shipping cost': 270}]\n"
     ]
    }
   ],
   "source": [
    "d1 = {101: {'Sender': 'Phillip', 'Receiver': 'Ramya', 'Start date': '14-03-2020', 'Delivery date': '25-03-2020', 'Sender location': 'Area 1', 'Receiver location': 'Area 6', 'Delivery status': 'Delivered', 'Shipping cost': 198},\n",
    "      102: {'Sender': 'Romesh', 'Receiver': 'Phillip', 'Start date': '18-06-2020', 'Delivery date': '09-07-2020', 'Sender location': 'Area 2', 'Receiver location': 'Area 4', 'Delivery status': 'Delivered', 'Shipping cost': 275},\n",
    "      103: {'Sender': 'Omega lll', 'Receiver': 'Ramya', 'Start date': '01-12-2020', 'Delivery date': 'Null', 'Sender location': 'Area 5', 'Receiver location': 'Area 1', 'Delivery status': 'In Transit', 'Shipping cost': 200}, \n",
    "      104: {'Sender': 'Phillip', 'Receiver': 'John', 'Start date': '23-06-2020', 'Delivery date': '25-06-2020', 'Sender location': 'Area 1', 'Receiver location': 'Area 4', 'Delivery status': 'Delivered', 'Shipping cost': 314},\n",
    "      105: {'Sender': 'Ramya', 'Receiver': 'Romesh', 'Start date': '29-08-2020', 'Delivery date': '10-09-2020', 'Sender location': 'Area 5', 'Receiver location': 'Area 3', 'Delivery status': 'Delivered', 'Shipping cost': 275},\n",
    "      106: {'Sender': 'John', 'Receiver': 'Omega lll', 'Start date': '28-06-2020', 'Delivery date': 'Null', 'Sender location': 'Area 3', 'Receiver location': 'Area 1', 'Delivery status': 'In Transit', 'Shipping cost': 270}}\n",
    "in_status = list(filter(lambda value: value['Delivery status'] == 'In Transit',\n",
    "                       d1.values()))\n",
    "print(in_status)"
   ]
  },
  {
   "cell_type": "code",
   "execution_count": 35,
   "id": "cc37e406",
   "metadata": {},
   "outputs": [],
   "source": [
    "#Q7. Print all shipments which are delivered within 7 days of courier Start date"
   ]
  },
  {
   "cell_type": "code",
   "execution_count": 7,
   "id": "778aa52a",
   "metadata": {},
   "outputs": [
    {
     "name": "stdout",
     "output_type": "stream",
     "text": [
      "{'Sender': 'Phillip', 'Receiver': 'John', 'Start date': '23-06-2020', 'Delivery date': '25-06-2020', 'Sender location': 'Area 1', 'Receiver location': 'Area 4', 'Delivery status': 'Delivered', 'Shipping cost': 314}\n"
     ]
    }
   ],
   "source": [
    "from datetime import datetime\n",
    "\n",
    "for v in d1.values():\n",
    "    if v[\"Delivery date\"] == \"Null\":\n",
    "        continue\n",
    "\n",
    "    start = datetime.strptime(v[\"Start date\"], \"%d-%m-%Y\")\n",
    "    delivery = datetime.strptime(v[\"Delivery date\"], \"%d-%m-%Y\")\n",
    "\n",
    "    if (delivery - start).days <= 7:\n",
    "        print(v)"
   ]
  },
  {
   "cell_type": "code",
   "execution_count": 9,
   "id": "0869cc51",
   "metadata": {},
   "outputs": [],
   "source": [
    "#Q8 Print all shipments which are delivered after 15 days of courier start date or not yet been delivered."
   ]
  },
  {
   "cell_type": "code",
   "execution_count": 8,
   "id": "15037a55",
   "metadata": {},
   "outputs": [
    {
     "name": "stdout",
     "output_type": "stream",
     "text": [
      "{'Sender': 'Romesh', 'Receiver': 'Phillip', 'Start date': '18-06-2020', 'Delivery date': '09-07-2020', 'Sender location': 'Area 2', 'Receiver location': 'Area 4', 'Delivery status': 'Delivered', 'Shipping cost': 275}\n"
     ]
    }
   ],
   "source": [
    "\n",
    "for v in d1.values():\n",
    "    if v[\"Delivery date\"] == \"Null\":\n",
    "        continue\n",
    "\n",
    "    start = datetime.strptime(v[\"Start date\"], \"%d-%m-%Y\")\n",
    "    delivery = datetime.strptime(v[\"Delivery date\"], \"%d-%m-%Y\")\n",
    "\n",
    "    if (delivery - start).days >= 15:\n",
    "        print(v)"
   ]
  },
  {
   "cell_type": "code",
   "execution_count": 21,
   "id": "09ff6c20",
   "metadata": {},
   "outputs": [],
   "source": [
    "#Q9. Write a function find_all_routes to display all possible routes from senders location to receivers location given in the dictionary for each shipment.¶"
   ]
  },
  {
   "cell_type": "code",
   "execution_count": 9,
   "id": "5c5f4dcd",
   "metadata": {},
   "outputs": [
    {
     "name": "stdout",
     "output_type": "stream",
     "text": [
      "Shipment Id:  101\n",
      "Sender's location 1\n",
      "Receiver's Location 6\n",
      "All possible routes : \n",
      "[1, 6]\n",
      "                       \n",
      "Shipment Id:  102\n",
      "Sender's location 2\n",
      "Receiver's Location 4\n",
      "All possible routes : \n",
      "[2, 3, 4]\n",
      "[2, 4]\n",
      "                       \n",
      "Shipment Id:  103\n",
      "Sender's location 5\n",
      "Receiver's Location 1\n",
      "All possible routes : \n",
      "[5, 4, 2, 1]\n",
      "[5, 4, 3, 2, 1]\n",
      "                       \n",
      "Shipment Id:  104\n",
      "Sender's location 1\n",
      "Receiver's Location 4\n",
      "All possible routes : \n",
      "[1, 2, 3, 4]\n",
      "[1, 2, 4]\n",
      "                       \n",
      "Shipment Id:  105\n",
      "Sender's location 5\n",
      "Receiver's Location 3\n",
      "All possible routes : \n",
      "[5, 4, 2, 3]\n",
      "[5, 4, 3]\n",
      "                       \n",
      "Shipment Id:  106\n",
      "Sender's location 3\n",
      "Receiver's Location 1\n",
      "All possible routes : \n",
      "[3, 2, 1]\n",
      "[3, 4, 2, 1]\n",
      "                       \n"
     ]
    }
   ],
   "source": [
    "matrix = [[0,1,0,0,0,1],[1,0,1,1,0,0],[0,1,0,1,0,0],[0,1,1,0,1,0],[0,0,0,1,0,0],[1,0,0,0,0,0]]\n",
    "visited=[False for i in range(6)]\n",
    "path = []\n",
    "\n",
    "def routes(matrix,u,d,visited,path):     \n",
    "        visited[u]= True\n",
    "        path.append(u+1) \n",
    "        if u == d: \n",
    "            print(path) \n",
    "        else: \n",
    "            for i in range(6):\n",
    "                if matrix[u][i] == 1 and (visited[i]== False): \n",
    "                    routes(matrix,i, d, visited, path) \n",
    "        path.pop() \n",
    "        visited[u]= False\n",
    "   \n",
    "\n",
    "def all_location(dict_list):\n",
    "    for i in dict_list:\n",
    "        print('Shipment Id: ',i)\n",
    "        s = int(dict_list[i][4][-1])\n",
    "        print(\"Sender's location\" , s)\n",
    "        r = int(dict_list[i][5][-1])\n",
    "        print(\"Receiver's Location\" , r)\n",
    "        print('All possible routes : ')\n",
    "        routes(matrix,s-1,r-1,visited,path)\n",
    "        print('                       ')\n",
    "        \n",
    "all_location(shipment_dict)"
   ]
  },
  {
   "cell_type": "code",
   "execution_count": null,
   "id": "b4a11119",
   "metadata": {},
   "outputs": [],
   "source": []
  }
 ],
 "metadata": {
  "kernelspec": {
   "display_name": "Python 3",
   "language": "python",
   "name": "python3"
  },
  "language_info": {
   "codemirror_mode": {
    "name": "ipython",
    "version": 3
   },
   "file_extension": ".py",
   "mimetype": "text/x-python",
   "name": "python",
   "nbconvert_exporter": "python",
   "pygments_lexer": "ipython3",
   "version": "3.8.8"
  }
 },
 "nbformat": 4,
 "nbformat_minor": 5
}
